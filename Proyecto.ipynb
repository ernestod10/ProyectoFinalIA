{
 "cells": [
  {
   "attachments": {},
   "cell_type": "markdown",
   "id": "8c38f384",
   "metadata": {},
   "source": [
    "Proyecto Verificar la salud de las plantas de tomate usando CNN "
   ]
  },
  {
   "cell_type": "code",
   "execution_count": 41,
   "id": "181e48a5",
   "metadata": {},
   "outputs": [],
   "source": [
    "import numpy as np\n",
    "import pandas as pd\n",
    "from keras.utils import to_categorical\n",
    "import tensorflow as tf\n",
    "import random\n",
    "import os\n",
    "import matplotlib.pyplot as plt\n",
    "from sklearn.model_selection import train_test_split"
   ]
  },
  {
   "cell_type": "code",
   "execution_count": 42,
   "id": "8a5ae983",
   "metadata": {},
   "outputs": [],
   "source": [
    "from sklearn.model_selection import train_test_split\n",
    "from tensorflow.keras.layers import Input, Lambda, Dense, Flatten, Conv2D, MaxPooling2D, Dropout, Activation, BatchNormalization\n",
    "from tensorflow.keras.models import Model\n",
    "from tensorflow.keras.applications.inception_v3 import InceptionV3\n",
    "from tensorflow.keras.applications.vgg16 import VGG16\n",
    "from tensorflow.keras.applications.inception_v3 import preprocess_input\n",
    "from tensorflow.keras.preprocessing import image\n",
    "from tensorflow.keras.preprocessing.image import ImageDataGenerator,load_img, array_to_img, img_to_array\n",
    "from tensorflow.keras.models import Sequential\n",
    "from glob import glob\n",
    "#from tensorflow.keras.applications.inception_v3 import InceptionV3"
   ]
  },
  {
   "attachments": {},
   "cell_type": "markdown",
   "id": "8de5dabe",
   "metadata": {},
   "source": [
    "Importamos el dataset y lo ponemos de tamaño 225x225 las imagenes"
   ]
  },
  {
   "cell_type": "code",
   "execution_count": 43,
   "id": "de7dc445",
   "metadata": {},
   "outputs": [],
   "source": [
    "img_size = [225, 225]\n",
    "#entrenamos inceptionv3 con las imagenes de imagenet para reconocimiento\n",
    "inception = InceptionV3(input_shape=img_size + [3], weights='imagenet', include_top=False)"
   ]
  },
  {
   "cell_type": "code",
   "execution_count": 44,
   "id": "53fb3790",
   "metadata": {},
   "outputs": [],
   "source": [
    "#con esto evita\n",
    "for layer in inception.layers:\n",
    "    layer.trainable = False"
   ]
  },
  {
   "cell_type": "code",
   "execution_count": 45,
   "id": "55d325dc",
   "metadata": {},
   "outputs": [
    {
     "data": {
      "text/plain": [
       "['dataset/train\\\\Bacterial_spot',\n",
       " 'dataset/train\\\\Early_blight',\n",
       " 'dataset/train\\\\healthy',\n",
       " 'dataset/train\\\\Late_blight',\n",
       " 'dataset/train\\\\Leaf_Mold',\n",
       " 'dataset/train\\\\Septoria_leaf_spot',\n",
       " 'dataset/train\\\\Spider_mites Two-spotted_spider_mite',\n",
       " 'dataset/train\\\\Target_Spot',\n",
       " 'dataset/train\\\\Tomato_mosaic_virus',\n",
       " 'dataset/train\\\\Tomato_Yellow_Leaf_Curl_Virus']"
      ]
     },
     "execution_count": 45,
     "metadata": {},
     "output_type": "execute_result"
    }
   ],
   "source": [
    "folder = glob('dataset/train/*')\n",
    "folder"
   ]
  },
  {
   "cell_type": "code",
   "execution_count": 46,
   "id": "373077a4",
   "metadata": {},
   "outputs": [],
   "source": [
    "#capas para el  modelo\n",
    "x = Flatten()(inception.output)\n",
    "prediction = Dense(len(folder), activation='softmax')(x)"
   ]
  },
  {
   "cell_type": "code",
   "execution_count": 47,
   "id": "9f5da655",
   "metadata": {},
   "outputs": [],
   "source": [
    "modelo = Model(inputs=inception.input, outputs=prediction)\n"
   ]
  },
  {
   "cell_type": "code",
   "execution_count": 48,
   "id": "616d3b56",
   "metadata": {},
   "outputs": [],
   "source": [
    "modelo.compile(\n",
    "  loss='categorical_crossentropy',\n",
    "  optimizer='SGD',\n",
    "  metrics=['accuracy']\n",
    ")\n"
   ]
  },
  {
   "cell_type": "code",
   "execution_count": 49,
   "id": "67dde2e7",
   "metadata": {},
   "outputs": [],
   "source": [
    "\n",
    "\n",
    "train_datagen = ImageDataGenerator(rescale = 1./255,\n",
    "                                   shear_range = 0.2,\n",
    "                                   zoom_range = 0.2,\n",
    "                                   horizontal_flip = True)\n",
    "\n",
    "test_datagen = ImageDataGenerator(rescale = 1./255)"
   ]
  },
  {
   "cell_type": "code",
   "execution_count": 50,
   "id": "37ab872b",
   "metadata": {},
   "outputs": [
    {
     "name": "stdout",
     "output_type": "stream",
     "text": [
      "Found 10000 images belonging to 10 classes.\n",
      "Found 10000 images belonging to 10 classes.\n"
     ]
    }
   ],
   "source": [
    "#training y testing\n",
    "training_set = train_datagen.flow_from_directory('dataset/train',\n",
    "                                                 target_size = (225, 225),\n",
    "                                                 batch_size = 32,\n",
    "                                                 class_mode = 'categorical')\n",
    "\n",
    "test_set = test_datagen.flow_from_directory('dataset/train',\n",
    "                                            target_size = (225, 225),\n",
    "                                            batch_size = 32,\n",
    "                                            class_mode = 'categorical')"
   ]
  },
  {
   "cell_type": "code",
   "execution_count": 51,
   "id": "2b503316",
   "metadata": {},
   "outputs": [
    {
     "name": "stdout",
     "output_type": "stream",
     "text": [
      "Epoch 1/10\n",
      "313/313 [==============================] - 363s 1s/step - loss: 13.1376 - accuracy: 0.5412 - val_loss: 3.0084 - val_accuracy: 0.7360\n",
      "Epoch 2/10\n",
      "313/313 [==============================] - 359s 1s/step - loss: 4.1050 - accuracy: 0.7222 - val_loss: 6.8532 - val_accuracy: 0.5737\n",
      "Epoch 3/10\n",
      "313/313 [==============================] - 363s 1s/step - loss: 3.2227 - accuracy: 0.7557 - val_loss: 2.0667 - val_accuracy: 0.8188\n",
      "Epoch 4/10\n",
      "313/313 [==============================] - 371s 1s/step - loss: 2.6107 - accuracy: 0.7882 - val_loss: 1.8201 - val_accuracy: 0.8366\n",
      "Epoch 5/10\n",
      "313/313 [==============================] - 358s 1s/step - loss: 1.9680 - accuracy: 0.8239 - val_loss: 1.0124 - val_accuracy: 0.8799\n",
      "Epoch 6/10\n",
      "313/313 [==============================] - 316s 1s/step - loss: 1.8220 - accuracy: 0.8306 - val_loss: 1.5934 - val_accuracy: 0.8333\n",
      "Epoch 7/10\n",
      "313/313 [==============================] - 318s 1s/step - loss: 1.7866 - accuracy: 0.8336 - val_loss: 1.0344 - val_accuracy: 0.8740\n",
      "Epoch 8/10\n",
      "313/313 [==============================] - 315s 1s/step - loss: 1.5883 - accuracy: 0.8479 - val_loss: 0.8187 - val_accuracy: 0.8957\n",
      "Epoch 9/10\n",
      "313/313 [==============================] - 321s 1s/step - loss: 1.3704 - accuracy: 0.8620 - val_loss: 2.9014 - val_accuracy: 0.8253\n",
      "Epoch 10/10\n",
      "313/313 [==============================] - 316s 1s/step - loss: 1.2712 - accuracy: 0.8629 - val_loss: 0.7299 - val_accuracy: 0.9054\n"
     ]
    }
   ],
   "source": [
    "result = modelo.fit(\n",
    "  training_set,\n",
    "  validation_data=test_set,\n",
    "  epochs=10,\n",
    "  steps_per_epoch=len(training_set),\n",
    "  validation_steps=len(test_set)\n",
    ")\n"
   ]
  },
  {
   "cell_type": "code",
   "execution_count": 52,
   "id": "0c002fd4",
   "metadata": {},
   "outputs": [
    {
     "data": {
      "image/png": "[encoded data removed]",
      "text/plain": [
       "<Figure size 432x288 with 1 Axes>"
      ]
     },
     "metadata": {
      "needs_background": "light"
     },
     "output_type": "display_data"
    }
   ],
   "source": [
    "# Precision\n",
    "plt.plot(result.history['accuracy'], label='train acc')\n",
    "plt.plot(result.history['val_accuracy'], label='val acc')\n",
    "plt.legend()\n",
    "plt.show()"
   ]
  },
  {
   "cell_type": "code",
   "execution_count": 53,
   "id": "4386f2b8",
   "metadata": {},
   "outputs": [
    {
     "data": {
      "text/plain": [
       "[0.5411999821662903,\n",
       " 0.7221999764442444,\n",
       " 0.7556999921798706,\n",
       " 0.7882000207901001,\n",
       " 0.8238999843597412,\n",
       " 0.8306000232696533,\n",
       " 0.8335999846458435,\n",
       " 0.8478999733924866,\n",
       " 0.8619999885559082,\n",
       " 0.8629000186920166]"
      ]
     },
     "execution_count": 53,
     "metadata": {},
     "output_type": "execute_result"
    }
   ],
   "source": [
    "\n",
    "result.history['accuracy']\n"
   ]
  },
  {
   "cell_type": "code",
   "execution_count": 54,
   "id": "537a569d",
   "metadata": {},
   "outputs": [
    {
     "data": {
      "text/plain": [
       "[0.7360000014305115,\n",
       " 0.5737000107765198,\n",
       " 0.8187999725341797,\n",
       " 0.8366000056266785,\n",
       " 0.8798999786376953,\n",
       " 0.833299994468689,\n",
       " 0.8740000128746033,\n",
       " 0.8956999778747559,\n",
       " 0.8252999782562256,\n",
       " 0.9053999781608582]"
      ]
     },
     "execution_count": 54,
     "metadata": {},
     "output_type": "execute_result"
    }
   ],
   "source": [
    "result.history['val_accuracy']"
   ]
  }
 ],
 "metadata": {
  "kernelspec": {
   "display_name": "base",
   "language": "python",
   "name": "python3"
  },
  "language_info": {
   "codemirror_mode": {
    "name": "ipython",
    "version": 3
   },
   "file_extension": ".py",
   "mimetype": "text/x-python",
   "name": "python",
   "nbconvert_exporter": "python",
   "pygments_lexer": "ipython3",
   "version": "3.9.12"
  },
  "vscode": {
   "interpreter": {
    "hash": "2db530a50e225ed1d73ac4bc1072e70e666df75e63aa73173b5a7ceb276d62ca"
   }
  }
 },
 "nbformat": 4,
 "nbformat_minor": 5
}
